{
  "nbformat": 4,
  "nbformat_minor": 0,
  "metadata": {
    "kernelspec": {
      "display_name": "Python 3",
      "language": "python",
      "name": "python3"
    },
    "language_info": {
      "codemirror_mode": {
        "name": "ipython",
        "version": 3
      },
      "file_extension": ".py",
      "mimetype": "text/x-python",
      "name": "python",
      "nbconvert_exporter": "python",
      "pygments_lexer": "ipython3",
      "version": "3.8.5"
    },
    "colab": {
      "name": "hw1.ipynb",
      "provenance": []
    },
    "accelerator": "GPU"
  },
  "cells": [
    {
      "cell_type": "markdown",
      "metadata": {
        "id": "TEEKQwtYDMUz"
      },
      "source": [
        "**SOFT DEADLINE:** `20.03.2022 23:59 msk` "
      ]
    },
    {
      "cell_type": "markdown",
      "metadata": {
        "id": "g-IAo9sYDMU-"
      },
      "source": [
        "# [5 points] Part 1. Data cleaning"
      ]
    },
    {
      "cell_type": "markdown",
      "metadata": {
        "id": "-SNyjuGjDMU_"
      },
      "source": [
        "The task is to clear the text data of the crawled web-pages from different sites. \n",
        "\n",
        "It is necessary to ensure that the distribution of the 100 most frequent words includes only meaningful words in english language (not particles, conjunctions, prepositions, numbers, tags, symbols)."
      ]
    },
    {
      "cell_type": "markdown",
      "metadata": {
        "id": "TA4VkGl2DMVB"
      },
      "source": [
        "Determine the order of operations below and carry out the appropriate cleaning.\n",
        "\n",
        "1. Remove non-english words\n",
        "1. Remove html-tags (try to do it with regular expression, or play with beautifulsoap library)\n",
        "1. Apply lemmatization / stemming\n",
        "1. Remove stop-words\n",
        "1. Additional processing - At your own initiative, if this helps to obtain a better distribution"
      ]
    },
    {
      "cell_type": "markdown",
      "metadata": {
        "id": "hjLsB9pdDMVC"
      },
      "source": [
        "#### Hints"
      ]
    },
    {
      "cell_type": "markdown",
      "metadata": {
        "id": "mk6ZLncvDMVD"
      },
      "source": [
        "1. To do text processing you may use nltk and re libraries\n",
        "1. and / or any other libraries on your choise"
      ]
    },
    {
      "cell_type": "markdown",
      "metadata": {
        "id": "KCbTa1OiDMVE"
      },
      "source": [
        "#### Data reading"
      ]
    },
    {
      "cell_type": "markdown",
      "metadata": {
        "id": "cXbG649IDMVG"
      },
      "source": [
        "The dataset for this part can be downloaded here: `https://drive.google.com/file/d/1wLwo83J-ikCCZY2RAoYx8NghaSaQ-lBA/view?usp=sharing`"
      ]
    },
    {
      "cell_type": "code",
      "source": [
        "import pandas as pd\n",
        "import numpy as np\n",
        "import matplotlib.pyplot as plt\n",
        "%matplotlib inline\n",
        "import re\n",
        "import nltk\n",
        "from nltk.corpus import stopwords\n",
        "from bs4 import BeautifulSoup\n",
        "from nltk.stem import PorterStemmer, WordNetLemmatizer\n",
        "nltk.download('words')\n",
        "nltk.download('stopwords')\n",
        "nltk.download(\"wordnet\")"
      ],
      "metadata": {
        "id": "g1QdlRXUIFE6",
        "colab": {
          "base_uri": "https://localhost:8080/"
        },
        "outputId": "ddf8c1e1-ff80-4ae3-ca69-cdf437860b33"
      },
      "execution_count": 1,
      "outputs": [
        {
          "output_type": "stream",
          "name": "stdout",
          "text": [
            "[nltk_data] Downloading package words to /root/nltk_data...\n",
            "[nltk_data]   Package words is already up-to-date!\n",
            "[nltk_data] Downloading package stopwords to /root/nltk_data...\n",
            "[nltk_data]   Package stopwords is already up-to-date!\n",
            "[nltk_data] Downloading package wordnet to /root/nltk_data...\n",
            "[nltk_data]   Package wordnet is already up-to-date!\n"
          ]
        },
        {
          "output_type": "execute_result",
          "data": {
            "text/plain": [
              "True"
            ]
          },
          "metadata": {},
          "execution_count": 1
        }
      ]
    },
    {
      "cell_type": "code",
      "source": [
        "from google.colab import drive\n",
        "drive.mount('/content/drive')"
      ],
      "metadata": {
        "colab": {
          "base_uri": "https://localhost:8080/"
        },
        "id": "V9Xfau6dEVGZ",
        "outputId": "601b906c-9985-4a68-f565-fab42f7f8637"
      },
      "execution_count": 2,
      "outputs": [
        {
          "output_type": "stream",
          "name": "stdout",
          "text": [
            "Mounted at /content/drive\n"
          ]
        }
      ]
    },
    {
      "cell_type": "code",
      "source": [
        "df = pd.read_csv(\"drive/MyDrive/NLP/web_sites_data.csv\")"
      ],
      "metadata": {
        "id": "ssKJosB3EdlC"
      },
      "execution_count": 3,
      "outputs": []
    },
    {
      "cell_type": "code",
      "source": [
        "def char_range(c1, c2):\n",
        "    for c in range(ord(c1), ord(c2)+1):\n",
        "        yield chr(c)"
      ],
      "metadata": {
        "id": "YhqBY4GFE-Nd"
      },
      "execution_count": 4,
      "outputs": []
    },
    {
      "cell_type": "code",
      "source": [
        "words = set(nltk.corpus.words.words())\n",
        "letters = set(char_range('a','z'))\n",
        "stop_words = stopwords.words(\"english\")\n",
        "lemmatizer = WordNetLemmatizer()"
      ],
      "metadata": {
        "id": "hX4nLW-VE-6o"
      },
      "execution_count": 5,
      "outputs": []
    },
    {
      "cell_type": "markdown",
      "metadata": {
        "id": "fGBTg9g4DMVJ"
      },
      "source": [
        "#### Data processing"
      ]
    },
    {
      "cell_type": "code",
      "metadata": {
        "id": "Hklvhb6RDMVL"
      },
      "source": [
        "def remove_tags(html):\n",
        "    soup = BeautifulSoup(html,\"html.parser\")\n",
        "    for data in soup(['style', 'script']):\n",
        "        data.decompose()\n",
        "  \n",
        "    return ' '.join(soup.stripped_strings)"
      ],
      "execution_count": 6,
      "outputs": []
    },
    {
      "cell_type": "code",
      "source": [
        "def preprocess(string):\n",
        "  string = remove_tags(string)\n",
        "  string=string.lower()\n",
        "  string = \" \".join(w for w in nltk.wordpunct_tokenize(string)\n",
        "         if (w in words) and (w not in letters))\n",
        "  tokens = [token for token in string.split(' ') if token not in stop_words]\n",
        "  string = [lemmatizer.lemmatize(token) for token in tokens]\n",
        "  string = \" \".join(w for w in string)\n",
        "  string = string.replace(\"\\t\",\"\").replace('\\n',\"\")\n",
        "  return string"
      ],
      "metadata": {
        "id": "UIj6FxeaFFXr"
      },
      "execution_count": 7,
      "outputs": []
    },
    {
      "cell_type": "code",
      "source": [
        "def process(df,k):\n",
        "  start=0\n",
        "  end=k\n",
        "  while(start<len(df)):\n",
        "    if(end>len(df)):\n",
        "      end=len(df)\n",
        "    data=df[start:end]\n",
        "    data[\"processed_text\"] = data[\"text\"].apply(lambda x: preprocess(x))\n",
        "    for index,line in pd.DataFrame(data['processed_text']).iterrows():\n",
        "      df.at[index,\"processув_text\"]=line['processed_text']\n",
        "    del(data)\n",
        "    start+=k\n",
        "    end+=k\n",
        "    print(\"Iterations mades:\",start//k)"
      ],
      "metadata": {
        "id": "BGTGDuZQOkLA"
      },
      "execution_count": 8,
      "outputs": []
    },
    {
      "cell_type": "code",
      "source": [
        "process(df,500)"
      ],
      "metadata": {
        "id": "uWkWxhh7Qbng"
      },
      "execution_count": null,
      "outputs": []
    },
    {
      "cell_type": "code",
      "source": [
        "df.to_csv('drive/MyDrive/NLP/_data.csv')"
      ],
      "metadata": {
        "id": "C0I_GyltftoN"
      },
      "execution_count": 10,
      "outputs": []
    },
    {
      "cell_type": "code",
      "source": [
        "df"
      ],
      "metadata": {
        "colab": {
          "base_uri": "https://localhost:8080/",
          "height": 902
        },
        "id": "gqrFlLS3Q766",
        "outputId": "882d37f9-408f-4f97-e00d-09dfa1728639"
      },
      "execution_count": 65,
      "outputs": [
        {
          "output_type": "execute_result",
          "data": {
            "text/plain": [
              "                                                    text  processed_text  \\\n",
              "0      <html>\\n<head profile=\"http://www.w3.org/2005/...             0.0   \n",
              "1      <html>\\n<head profile=\"http://www.w3.org/2005/...             0.0   \n",
              "2      <html>\\n<head profile=\"http://www.w3.org/2005/...             0.0   \n",
              "3      <html>\\n<head profile=\"http://www.w3.org/2005/...             0.0   \n",
              "4      <html>\\n<head profile=\"http://www.w3.org/2005/...             0.0   \n",
              "...                                                  ...             ...   \n",
              "71694  <?xml version=\"1.0\" encoding=\"UTF-8\"?>\\n    \\n...             0.0   \n",
              "71695  <!DOCTYPE html PUBLIC \"-//W3C//DTD XHTML 1.0 T...             0.0   \n",
              "71696  <!DOCTYPE html PUBLIC \"-//W3C//DTD XHTML 1.0 T...             0.0   \n",
              "71697  <?xml version=\"1.0\" encoding=\"UTF-8\"?>\\n    \\n...             0.0   \n",
              "71698  <?xml version=\"1.0\" encoding=\"UTF-8\"?>\\n    \\n...             0.0   \n",
              "\n",
              "                                            process_text  \\\n",
              "0      eric love war eric love war author eric title ...   \n",
              "1      eric short walk eric short walk author eric ti...   \n",
              "2      poetry unabridged poetry unabridged author tit...   \n",
              "3      uncle cabin uncle cabin author title uncle cab...   \n",
              "4      consider lily consider lily author title consi...   \n",
              "...                                                  ...   \n",
              "71694                                                NaN   \n",
              "71695                                                NaN   \n",
              "71696                                                NaN   \n",
              "71697                                                NaN   \n",
              "71698                                                NaN   \n",
              "\n",
              "                                          processув_text  \n",
              "0      eric love war eric love war author eric title ...  \n",
              "1      eric short walk eric short walk author eric ti...  \n",
              "2      poetry unabridged poetry unabridged author tit...  \n",
              "3      uncle cabin uncle cabin author title uncle cab...  \n",
              "4      consider lily consider lily author title consi...  \n",
              "...                                                  ...  \n",
              "71694  donkey march skip donkey march section skip ma...  \n",
              "71695  true crime street la spec game home news guess...  \n",
              "71696  world soccer winning eleven spec game home new...  \n",
              "71697  really rock skip really rock section skip main...  \n",
              "71698  star cheer squad skip star cheer squad section...  \n",
              "\n",
              "[71699 rows x 4 columns]"
            ],
            "text/html": [
              "\n",
              "  <div id=\"df-84a54317-6dae-4e3d-85f5-2402f7bf3831\">\n",
              "    <div class=\"colab-df-container\">\n",
              "      <div>\n",
              "<style scoped>\n",
              "    .dataframe tbody tr th:only-of-type {\n",
              "        vertical-align: middle;\n",
              "    }\n",
              "\n",
              "    .dataframe tbody tr th {\n",
              "        vertical-align: top;\n",
              "    }\n",
              "\n",
              "    .dataframe thead th {\n",
              "        text-align: right;\n",
              "    }\n",
              "</style>\n",
              "<table border=\"1\" class=\"dataframe\">\n",
              "  <thead>\n",
              "    <tr style=\"text-align: right;\">\n",
              "      <th></th>\n",
              "      <th>text</th>\n",
              "      <th>processed_text</th>\n",
              "      <th>process_text</th>\n",
              "      <th>processув_text</th>\n",
              "    </tr>\n",
              "  </thead>\n",
              "  <tbody>\n",
              "    <tr>\n",
              "      <th>0</th>\n",
              "      <td>&lt;html&gt;\\n&lt;head profile=\"http://www.w3.org/2005/...</td>\n",
              "      <td>0.0</td>\n",
              "      <td>eric love war eric love war author eric title ...</td>\n",
              "      <td>eric love war eric love war author eric title ...</td>\n",
              "    </tr>\n",
              "    <tr>\n",
              "      <th>1</th>\n",
              "      <td>&lt;html&gt;\\n&lt;head profile=\"http://www.w3.org/2005/...</td>\n",
              "      <td>0.0</td>\n",
              "      <td>eric short walk eric short walk author eric ti...</td>\n",
              "      <td>eric short walk eric short walk author eric ti...</td>\n",
              "    </tr>\n",
              "    <tr>\n",
              "      <th>2</th>\n",
              "      <td>&lt;html&gt;\\n&lt;head profile=\"http://www.w3.org/2005/...</td>\n",
              "      <td>0.0</td>\n",
              "      <td>poetry unabridged poetry unabridged author tit...</td>\n",
              "      <td>poetry unabridged poetry unabridged author tit...</td>\n",
              "    </tr>\n",
              "    <tr>\n",
              "      <th>3</th>\n",
              "      <td>&lt;html&gt;\\n&lt;head profile=\"http://www.w3.org/2005/...</td>\n",
              "      <td>0.0</td>\n",
              "      <td>uncle cabin uncle cabin author title uncle cab...</td>\n",
              "      <td>uncle cabin uncle cabin author title uncle cab...</td>\n",
              "    </tr>\n",
              "    <tr>\n",
              "      <th>4</th>\n",
              "      <td>&lt;html&gt;\\n&lt;head profile=\"http://www.w3.org/2005/...</td>\n",
              "      <td>0.0</td>\n",
              "      <td>consider lily consider lily author title consi...</td>\n",
              "      <td>consider lily consider lily author title consi...</td>\n",
              "    </tr>\n",
              "    <tr>\n",
              "      <th>...</th>\n",
              "      <td>...</td>\n",
              "      <td>...</td>\n",
              "      <td>...</td>\n",
              "      <td>...</td>\n",
              "    </tr>\n",
              "    <tr>\n",
              "      <th>71694</th>\n",
              "      <td>&lt;?xml version=\"1.0\" encoding=\"UTF-8\"?&gt;\\n    \\n...</td>\n",
              "      <td>0.0</td>\n",
              "      <td>NaN</td>\n",
              "      <td>donkey march skip donkey march section skip ma...</td>\n",
              "    </tr>\n",
              "    <tr>\n",
              "      <th>71695</th>\n",
              "      <td>&lt;!DOCTYPE html PUBLIC \"-//W3C//DTD XHTML 1.0 T...</td>\n",
              "      <td>0.0</td>\n",
              "      <td>NaN</td>\n",
              "      <td>true crime street la spec game home news guess...</td>\n",
              "    </tr>\n",
              "    <tr>\n",
              "      <th>71696</th>\n",
              "      <td>&lt;!DOCTYPE html PUBLIC \"-//W3C//DTD XHTML 1.0 T...</td>\n",
              "      <td>0.0</td>\n",
              "      <td>NaN</td>\n",
              "      <td>world soccer winning eleven spec game home new...</td>\n",
              "    </tr>\n",
              "    <tr>\n",
              "      <th>71697</th>\n",
              "      <td>&lt;?xml version=\"1.0\" encoding=\"UTF-8\"?&gt;\\n    \\n...</td>\n",
              "      <td>0.0</td>\n",
              "      <td>NaN</td>\n",
              "      <td>really rock skip really rock section skip main...</td>\n",
              "    </tr>\n",
              "    <tr>\n",
              "      <th>71698</th>\n",
              "      <td>&lt;?xml version=\"1.0\" encoding=\"UTF-8\"?&gt;\\n    \\n...</td>\n",
              "      <td>0.0</td>\n",
              "      <td>NaN</td>\n",
              "      <td>star cheer squad skip star cheer squad section...</td>\n",
              "    </tr>\n",
              "  </tbody>\n",
              "</table>\n",
              "<p>71699 rows × 4 columns</p>\n",
              "</div>\n",
              "      <button class=\"colab-df-convert\" onclick=\"convertToInteractive('df-84a54317-6dae-4e3d-85f5-2402f7bf3831')\"\n",
              "              title=\"Convert this dataframe to an interactive table.\"\n",
              "              style=\"display:none;\">\n",
              "        \n",
              "  <svg xmlns=\"http://www.w3.org/2000/svg\" height=\"24px\"viewBox=\"0 0 24 24\"\n",
              "       width=\"24px\">\n",
              "    <path d=\"M0 0h24v24H0V0z\" fill=\"none\"/>\n",
              "    <path d=\"M18.56 5.44l.94 2.06.94-2.06 2.06-.94-2.06-.94-.94-2.06-.94 2.06-2.06.94zm-11 1L8.5 8.5l.94-2.06 2.06-.94-2.06-.94L8.5 2.5l-.94 2.06-2.06.94zm10 10l.94 2.06.94-2.06 2.06-.94-2.06-.94-.94-2.06-.94 2.06-2.06.94z\"/><path d=\"M17.41 7.96l-1.37-1.37c-.4-.4-.92-.59-1.43-.59-.52 0-1.04.2-1.43.59L10.3 9.45l-7.72 7.72c-.78.78-.78 2.05 0 2.83L4 21.41c.39.39.9.59 1.41.59.51 0 1.02-.2 1.41-.59l7.78-7.78 2.81-2.81c.8-.78.8-2.07 0-2.86zM5.41 20L4 18.59l7.72-7.72 1.47 1.35L5.41 20z\"/>\n",
              "  </svg>\n",
              "      </button>\n",
              "      \n",
              "  <style>\n",
              "    .colab-df-container {\n",
              "      display:flex;\n",
              "      flex-wrap:wrap;\n",
              "      gap: 12px;\n",
              "    }\n",
              "\n",
              "    .colab-df-convert {\n",
              "      background-color: #E8F0FE;\n",
              "      border: none;\n",
              "      border-radius: 50%;\n",
              "      cursor: pointer;\n",
              "      display: none;\n",
              "      fill: #1967D2;\n",
              "      height: 32px;\n",
              "      padding: 0 0 0 0;\n",
              "      width: 32px;\n",
              "    }\n",
              "\n",
              "    .colab-df-convert:hover {\n",
              "      background-color: #E2EBFA;\n",
              "      box-shadow: 0px 1px 2px rgba(60, 64, 67, 0.3), 0px 1px 3px 1px rgba(60, 64, 67, 0.15);\n",
              "      fill: #174EA6;\n",
              "    }\n",
              "\n",
              "    [theme=dark] .colab-df-convert {\n",
              "      background-color: #3B4455;\n",
              "      fill: #D2E3FC;\n",
              "    }\n",
              "\n",
              "    [theme=dark] .colab-df-convert:hover {\n",
              "      background-color: #434B5C;\n",
              "      box-shadow: 0px 1px 3px 1px rgba(0, 0, 0, 0.15);\n",
              "      filter: drop-shadow(0px 1px 2px rgba(0, 0, 0, 0.3));\n",
              "      fill: #FFFFFF;\n",
              "    }\n",
              "  </style>\n",
              "\n",
              "      <script>\n",
              "        const buttonEl =\n",
              "          document.querySelector('#df-84a54317-6dae-4e3d-85f5-2402f7bf3831 button.colab-df-convert');\n",
              "        buttonEl.style.display =\n",
              "          google.colab.kernel.accessAllowed ? 'block' : 'none';\n",
              "\n",
              "        async function convertToInteractive(key) {\n",
              "          const element = document.querySelector('#df-84a54317-6dae-4e3d-85f5-2402f7bf3831');\n",
              "          const dataTable =\n",
              "            await google.colab.kernel.invokeFunction('convertToInteractive',\n",
              "                                                     [key], {});\n",
              "          if (!dataTable) return;\n",
              "\n",
              "          const docLinkHtml = 'Like what you see? Visit the ' +\n",
              "            '<a target=\"_blank\" href=https://colab.research.google.com/notebooks/data_table.ipynb>data table notebook</a>'\n",
              "            + ' to learn more about interactive tables.';\n",
              "          element.innerHTML = '';\n",
              "          dataTable['output_type'] = 'display_data';\n",
              "          await google.colab.output.renderOutput(dataTable, element);\n",
              "          const docLink = document.createElement('div');\n",
              "          docLink.innerHTML = docLinkHtml;\n",
              "          element.appendChild(docLink);\n",
              "        }\n",
              "      </script>\n",
              "    </div>\n",
              "  </div>\n",
              "  "
            ]
          },
          "metadata": {},
          "execution_count": 65
        }
      ]
    },
    {
      "cell_type": "code",
      "source": [
        "lines = df[\"processув_text\"].tolist()"
      ],
      "metadata": {
        "id": "7y_CaaMvFZJb"
      },
      "execution_count": 67,
      "outputs": []
    },
    {
      "cell_type": "code",
      "source": [
        "def delete_empties(line):\n",
        "  if \"\" in line:\n",
        "    line.remove(\"\")\n",
        "  return line"
      ],
      "metadata": {
        "id": "IOj3EV7EF9Cl"
      },
      "execution_count": 23,
      "outputs": []
    },
    {
      "cell_type": "code",
      "source": [
        "voc_list=[]\n",
        "for line in lines:\n",
        "  voc_list.extend(delete_empties(line.split(\" \")))"
      ],
      "metadata": {
        "id": "e6E5jGMtFfAB"
      },
      "execution_count": 68,
      "outputs": []
    },
    {
      "cell_type": "markdown",
      "metadata": {
        "id": "_h_c-1kBDMVN"
      },
      "source": [
        "#### Vizualization"
      ]
    },
    {
      "cell_type": "markdown",
      "metadata": {
        "id": "HTu83iAWDMVN"
      },
      "source": [
        "As a visualisation, it is necessary to construct a frequency distribution of words (the 100 most common words), sorted by frequency. \n",
        "\n",
        "For visualization purposes we advice you to use plotly, but you are free to choose other libraries"
      ]
    },
    {
      "cell_type": "code",
      "metadata": {
        "id": "bHX6IXcrDMVO",
        "colab": {
          "base_uri": "https://localhost:8080/",
          "height": 230
        },
        "outputId": "be9b56b9-b742-4000-9af5-53ec98f5c13b"
      },
      "source": [
        "from nltk.probability import FreqDist\n",
        "plt.figure(figsize=(20, 5))\n",
        "fdist = FreqDist(voc_list)\n",
        "fdist.plot(100)"
      ],
      "execution_count": 69,
      "outputs": [
        {
          "output_type": "display_data",
          "data": {
            "text/plain": [
              "<Figure size 1440x360 with 1 Axes>"
            ],
            "image/png": "[encoded data removed]"
          },
          "metadata": {
            "needs_background": "light"
          }
        }
      ]
    },
    {
      "cell_type": "markdown",
      "metadata": {
        "id": "5ZxcPfLTDMVO"
      },
      "source": [
        "#### Provide examples of processed text (some parts)\n",
        "\n",
        "Is everything all right with the result of cleaning these examples? What kind of information was lost?"
      ]
    },
    {
      "cell_type": "code",
      "metadata": {
        "id": "2BSMfa9lDMVP",
        "colab": {
          "base_uri": "https://localhost:8080/",
          "height": 140
        },
        "outputId": "bb460fc5-7fb9-4574-cc3d-b09bcee5a70d"
      },
      "source": [
        "df['processув_text'][5]"
      ],
      "execution_count": 70,
      "outputs": [
        {
          "output_type": "execute_result",
          "data": {
            "text/plain": [
              "'autobiography autobiography author title autobiography available senna versus story deadly rivalry racing driver never saw abridged automotive edition format miscellaneous motor sport nonfiction racing sport sport outdoors unlaunched binding audio date publisher audio edition abridged description product description early struggle fought back broken neck sell house fund racing triumph neck neck like senna still drove book forthrightly fellow well formula winning championship comeback end add save later web related recommend'"
            ],
            "application/vnd.google.colaboratory.intrinsic+json": {
              "type": "string"
            }
          },
          "metadata": {},
          "execution_count": 70
        }
      ]
    },
    {
      "cell_type": "code",
      "metadata": {
        "id": "0xn6XK7UDMVP",
        "colab": {
          "base_uri": "https://localhost:8080/",
          "height": 157
        },
        "outputId": "c78ae3de-e5d1-45e1-bf5d-0300e9192073"
      },
      "source": [
        "df['processув_text'][105]"
      ],
      "execution_count": 71,
      "outputs": [
        {
          "output_type": "execute_result",
          "data": {
            "text/plain": [
              "'jean de seashore collins watch guide jean de seashore collins watch guide author jean de title seashore collins watch guide available biological ecology nature ecology oceanography outdoors nature professional technical professional science reference science binding spiral bound date publisher weight size used description product description introduction seashore young black white section important classification food cycle specie immobile also information exploring seashore fold help immediate reference book laminated used anywhere rain seaside without risk spoiling add save later web related recommend'"
            ],
            "application/vnd.google.colaboratory.intrinsic+json": {
              "type": "string"
            }
          },
          "metadata": {},
          "execution_count": 71
        }
      ]
    },
    {
      "cell_type": "markdown",
      "metadata": {
        "id": "IlSeYg4sDMVQ"
      },
      "source": [
        "# [10 points] Part 2. Duplicates detection. LSH"
      ]
    },
    {
      "cell_type": "markdown",
      "metadata": {
        "id": "ZuMBHSiDDMVR"
      },
      "source": [
        "#### Libraries you can use\n",
        "\n",
        "1. LSH - https://github.com/ekzhu/datasketch\n",
        "1. LSH - https://github.com/mattilyra/LSH\n",
        "1. Any other library on your choise"
      ]
    },
    {
      "cell_type": "markdown",
      "metadata": {
        "id": "uff5aBpgDMVR"
      },
      "source": [
        "1. Detect duplicated text (duplicates do not imply a complete word-to-word match, but texts that may contain a paraphrase, rearrangement of words, sentences)\n",
        "1. Make a plot dependency of duplicates on shingle size (with fixed minhash length) \n",
        "1. Make a plot dependency of duplicates on minhash length (with fixed shingle size)"
      ]
    },
    {
      "cell_type": "code",
      "source": [
        "df=pd.read_csv(\"drive/MyDrive/NLP/_data.csv\")"
      ],
      "metadata": {
        "id": "etW-m99As8EZ"
      },
      "execution_count": 2,
      "outputs": []
    },
    {
      "cell_type": "code",
      "source": [
        "df=df['processув_text']"
      ],
      "metadata": {
        "id": "COw5RrBeBlEL"
      },
      "execution_count": 4,
      "outputs": []
    },
    {
      "cell_type": "code",
      "source": [
        "data=df[:5000]"
      ],
      "metadata": {
        "colab": {
          "base_uri": "https://localhost:8080/",
          "height": 165
        },
        "id": "rCIn8l0Y_QD1",
        "outputId": "35d8b212-76cc-4d7e-9bbf-32633ab3ab65"
      },
      "execution_count": 10,
      "outputs": [
        {
          "output_type": "error",
          "ename": "NameError",
          "evalue": "ignored",
          "traceback": [
            "\u001b[0;31m---------------------------------------------------------------------------\u001b[0m",
            "\u001b[0;31mNameError\u001b[0m                                 Traceback (most recent call last)",
            "\u001b[0;32m<ipython-input-10-790597152817>\u001b[0m in \u001b[0;36m<module>\u001b[0;34m()\u001b[0m\n\u001b[0;32m----> 1\u001b[0;31m \u001b[0mdata\u001b[0m\u001b[0;34m=\u001b[0m\u001b[0mpd\u001b[0m\u001b[0;34m.\u001b[0m\u001b[0mDataFrame\u001b[0m\u001b[0;34m(\u001b[0m\u001b[0mdf\u001b[0m\u001b[0;34m[\u001b[0m\u001b[0;34m:\u001b[0m\u001b[0;36m5000\u001b[0m\u001b[0;34m]\u001b[0m\u001b[0;34m)\u001b[0m\u001b[0;34m\u001b[0m\u001b[0;34m\u001b[0m\u001b[0m\n\u001b[0m",
            "\u001b[0;31mNameError\u001b[0m: name 'df' is not defined"
          ]
        }
      ]
    },
    {
      "cell_type": "code",
      "source": [
        "data=pd.DataFrame(data)"
      ],
      "metadata": {
        "id": "4xkHHv6BB92J"
      },
      "execution_count": 11,
      "outputs": []
    },
    {
      "cell_type": "code",
      "source": [
        "del df"
      ],
      "metadata": {
        "id": "Vk0paiXPA1nr"
      },
      "execution_count": 6,
      "outputs": []
    },
    {
      "cell_type": "code",
      "metadata": {
        "id": "QOFZ7AvyDMVS"
      },
      "source": [
        "def build_shingles(sentence: str, k: int):\n",
        "    shingles = []\n",
        "    for i in range(len(sentence) - k):\n",
        "        shingles.append(sentence[i:i+k])\n",
        "    return set(shingles)\n",
        "\n",
        "def build_vocab(shingle_sets: list):\n",
        "    # convert list of shingle sets into single set\n",
        "    full_set = {item for set_ in shingle_sets for item in set_}\n",
        "    vocab = {}\n",
        "    for i, shingle in enumerate(list(full_set)):\n",
        "        vocab[shingle] = i\n",
        "    return vocab\n",
        "\n",
        "def one_hot(shingles: set, vocab: dict):\n",
        "    vec = np.zeros(len(vocab))\n",
        "    for shingle in shingles:\n",
        "        idx = vocab[shingle]\n",
        "        vec[idx] = 1\n",
        "    return vec"
      ],
      "execution_count": 7,
      "outputs": []
    },
    {
      "cell_type": "code",
      "metadata": {
        "id": "HPonm9U3DMVS",
        "colab": {
          "base_uri": "https://localhost:8080/"
        },
        "outputId": "63a44177-d508-4eb4-ba99-6ec4a6a8c940"
      },
      "source": [
        "lines= data['processув_text'].tolist()\n",
        "lines[:3]"
      ],
      "execution_count": 12,
      "outputs": [
        {
          "output_type": "execute_result",
          "data": {
            "text/plain": [
              "['eric love war eric love war author eric title love war available short walk slowly mediterranean last grain race round low gear box show abridged ancient general eastern front edition format florence history history general history general home front intelligence medieval military naval pearl harbor personal reference renaissance travel travel general western front world war writing binding audio date publisher audio weight size edition abridged previous oh previous ca deb description book description made peace summer allied eric among away prison behind went help retreating enemy sheltered three classic memoir selfless people unchanging funny bizarre dangerous local girl later wife exciting story superbly told punch related interest hood freedom available add save later web related recommend',\n",
              " 'eric short walk eric short walk author eric title short walk available world dozen bookseller lovely three tea one man mission elegance hedgehog banner heaven story pat parker feminism smith giraffe longitude true story lone five quarter orange show education reference reference travel writing binding audio date publisher audio weight size edition abridged description product description eric also written last grain race slowly love war mediterranean review decade following end world war eric toiled away fashion industry peddling clothes planet regarding one wafer thin model runway best put mall queen come home fortunately end tether point sort sublime impulsiveness forbidden fictional endemic real decided visit remote corner least adventure classic narrative short walk title course fine example habitual self effacement since journey included near ascent foot mir anything short book furnish missing link great era contemporary jungle time also mind waugh preface le acidulous writer sure little interest sort heat seeking satiric waugh specialty still short walk hilarious read author snapshot say backwater two crisp whole gale wind blowing tearing surface main street except two holding dog whose hind deserted capsule history also sly dig special relationship violence prone officially subsidy fully selection amir apart lord like people alive displeased blowing cannon standing neck water high freeze solid done nothing exception could taken also waugh indeed travel another important respect miraculously free solipsism even literary tend sense term self centered short walk wonderfully oblique author travel companion carless wife starring role subsequent slowly also brilliant cameo indelible record stunning landscape roof world rendering absolute heaven low oxygen hell yet author never pit malicious nature frost memorable phrase lofty original rage yet another reason call little masterpiece peak performance add save later web related recommend',\n",
              " 'poetry unabridged poetry unabridged author title poetry unabridged available bin literature fiction poetry poetry drama short unlaunched binding audio date publisher audio weight size description product description selection recording lyrical longer abbey immortality prelude trace development mind add save later web related recommend']"
            ]
          },
          "metadata": {},
          "execution_count": 12
        }
      ]
    },
    {
      "cell_type": "code",
      "source": [
        "def minhash_arr(vocab: dict, resolution: int):\n",
        "    length = len(vocab.keys())\n",
        "    arr = np.zeros((resolution, length))\n",
        "    for i in range(resolution):\n",
        "        permutation = np.random.permutation(len(vocab)) + 1\n",
        "        arr[i, :] = permutation.copy()\n",
        "    return arr.astype(int)\n",
        "\n",
        "def get_signature(minhash, vector):\n",
        "    # get index locations of every 1 value in vector\n",
        "    idx = np.nonzero(vector)[0].tolist()\n",
        "    # use index locations to pull only +ve positions in minhash\n",
        "    shingles = minhash[:, idx]\n",
        "    # find minimum value in each hash vector\n",
        "    signature = np.min(shingles, axis=1)\n",
        "    return signature"
      ],
      "metadata": {
        "id": "MchWop3sKQQ6"
      },
      "execution_count": 13,
      "outputs": []
    },
    {
      "cell_type": "code",
      "source": [
        "from itertools import combinations\n",
        "\n",
        "class LSH:\n",
        "    buckets = []\n",
        "    counter = 0\n",
        "    def __init__(self, b):\n",
        "        self.buckets=[]\n",
        "        self.b = b\n",
        "        for i in range(b):\n",
        "            self.buckets.append({})\n",
        "\n",
        "    def make_subvecs(self, signature):\n",
        "        l = len(signature)\n",
        "        assert l % self.b == 0\n",
        "        r = int(l / self.b)\n",
        "        # break signature into subvectors\n",
        "        subvecs = []\n",
        "        for i in range(0, l, r):\n",
        "            subvecs.append(signature[i:i+r])\n",
        "        return np.stack(subvecs)\n",
        "    \n",
        "    def add_hash(self, signature):\n",
        "        subvecs = self.make_subvecs(signature).astype(str)\n",
        "        for i, subvec in enumerate(subvecs):\n",
        "            subvec = ','.join(subvec)\n",
        "            if subvec not in self.buckets[i].keys():\n",
        "                self.buckets[i][subvec] = []\n",
        "            self.buckets[i][subvec].append(self.counter)\n",
        "        self.counter += 1\n",
        "\n",
        "    def check_candidates(self):\n",
        "        candidates = []\n",
        "        for bucket_band in self.buckets:\n",
        "            keys = bucket_band.keys()\n",
        "            for bucket in keys:\n",
        "                hits = bucket_band[bucket]\n",
        "                if len(hits) > 1:\n",
        "                    candidates.extend(combinations(hits, 2))\n",
        "        return set(candidates)"
      ],
      "metadata": {
        "id": "FCl50lhKKTCS"
      },
      "execution_count": 14,
      "outputs": []
    },
    {
      "cell_type": "code",
      "source": [
        "def all_procedure(data,shingle_size: int, minhash_size: int):\n",
        "  lines= data['processув_text'].tolist()\n",
        "  shingles = []\n",
        "  for line in lines:\n",
        "    shingles.append(build_shingles(line, shingle_size))\n",
        "  del (lines)\n",
        "  vocab = build_vocab(shingles)\n",
        "  shingles_1hot = []\n",
        "  for shingle_set in shingles:\n",
        "    shingles_1hot.append(one_hot(shingle_set, vocab))\n",
        "  del shingles\n",
        "  shingles_1hot = np.stack(shingles_1hot)\n",
        "  arr = minhash_arr(vocab, minhash_size)\n",
        "  del vocab\n",
        "  signatures = []\n",
        "  for vector in shingles_1hot:\n",
        "    signatures.append(get_signature(arr, vector))\n",
        "  del shingles_1hot\n",
        "  signatures = np.stack(signatures)\n",
        "  b = 5\n",
        "  lsh = LSH(b)\n",
        "  for signature in signatures:\n",
        "    lsh.add_hash(signature)\n",
        "  del signatures\n",
        "  candidate_pairs = lsh.check_candidates()\n",
        "  length = len(candidate_pairs)\n",
        "  del candidate_pairs\n",
        "  return length"
      ],
      "metadata": {
        "id": "mTrXjU-7KUOm"
      },
      "execution_count": 15,
      "outputs": []
    },
    {
      "cell_type": "code",
      "source": [
        "def duplicates_vs_shingles():\n",
        "  y=[]\n",
        "  x=list(range(2,6))\n",
        "  for i in x:\n",
        "    print(i)\n",
        "    y.append(all_procedure(data,shingle_size=i,minhash_size=100))\n",
        "  plt.scatter(x,y)\n",
        "  plt.xlabel(\"Shingle size\")\n",
        "  plt.ylabel(\"Number of duplicates\")\n",
        "  plt.grid()\n",
        "  plt.show()"
      ],
      "metadata": {
        "id": "nW-GFr6FKXla"
      },
      "execution_count": 16,
      "outputs": []
    },
    {
      "cell_type": "code",
      "source": [
        "duplicates_vs_shingles()"
      ],
      "metadata": {
        "colab": {
          "base_uri": "https://localhost:8080/",
          "height": 349
        },
        "id": "OBgVGDRPLBVM",
        "outputId": "de07be8f-7d8f-46d3-db96-266df35699f9"
      },
      "execution_count": 17,
      "outputs": [
        {
          "output_type": "stream",
          "name": "stdout",
          "text": [
            "2\n",
            "3\n",
            "4\n",
            "5\n"
          ]
        },
        {
          "output_type": "display_data",
          "data": {
            "text/plain": [
              "<Figure size 432x288 with 1 Axes>"
            ],
            "image/png": "[encoded data removed]"
          },
          "metadata": {
            "needs_background": "light"
          }
        }
      ]
    },
    {
      "cell_type": "code",
      "source": [
        "def duplicates_vs_minhash():\n",
        "  y=[]\n",
        "  x=[5,10,15,20,25,30]\n",
        "  for i in x:\n",
        "    y.append(all_procedure(data,shingle_size=4,minhash_size=i))\n",
        "  plt.scatter(x,y)\n",
        "  plt.xlabel(\"Minhash size\")\n",
        "  plt.ylabel(\"Number of duplicates\")\n",
        "  plt.grid()\n",
        "  plt.show()"
      ],
      "metadata": {
        "id": "DAVwA_XjKcpz"
      },
      "execution_count": 21,
      "outputs": []
    },
    {
      "cell_type": "code",
      "source": [
        "duplicates_vs_minhash()"
      ],
      "metadata": {
        "colab": {
          "base_uri": "https://localhost:8080/",
          "height": 290
        },
        "id": "wZfyH9qzMofe",
        "outputId": "e2c54e5c-aeea-4e07-eb83-170cfec89f94"
      },
      "execution_count": 22,
      "outputs": [
        {
          "output_type": "display_data",
          "data": {
            "text/plain": [
              "<Figure size 432x288 with 1 Axes>"
            ],
            "image/png": "[encoded data removed]"
          },
          "metadata": {
            "needs_background": "light"
          }
        }
      ]
    },
    {
      "cell_type": "markdown",
      "metadata": {
        "id": "njdTa1daDMVS"
      },
      "source": [
        "# [Optional 10 points] Part 3. Topic model"
      ]
    },
    {
      "cell_type": "markdown",
      "metadata": {
        "id": "4BwJNkn2DMVT"
      },
      "source": [
        "In this part you will learn how to do topic modeling with common tools and assess the resulting quality of the models. "
      ]
    },
    {
      "cell_type": "code",
      "metadata": {
        "id": "l0WcLMhHDMVT"
      },
      "source": [
        ""
      ],
      "execution_count": 31,
      "outputs": []
    },
    {
      "cell_type": "markdown",
      "metadata": {
        "id": "WkNFzxqPDMVU"
      },
      "source": [
        "The provided data contain chunked stories by Edgar Allan Poe (EAP), Mary Shelley (MWS), and HP Lovecraft (HPL).\n",
        "\n",
        "The dataset can be downloaded here: `https://drive.google.com/file/d/14tAjAzHr6UmFVFV7ABTyNHBh-dWHAaLH/view?usp=sharing`"
      ]
    },
    {
      "cell_type": "markdown",
      "metadata": {
        "id": "5BNIa1miDMVU"
      },
      "source": [
        "#### Preprocess dataset with the functions from the Part 1"
      ]
    },
    {
      "cell_type": "code",
      "metadata": {
        "id": "9B8PZNRyDMVV"
      },
      "source": [
        ""
      ],
      "execution_count": null,
      "outputs": []
    },
    {
      "cell_type": "markdown",
      "metadata": {
        "id": "qKU2D29CDMVV"
      },
      "source": [
        "#### Quality estimation"
      ]
    },
    {
      "cell_type": "markdown",
      "metadata": {
        "id": "l6xfd3vpDMVW"
      },
      "source": [
        "Implement the following three quality fuctions: `coherence` (or `tf-idf coherence`), `normalized PMI`, `based on the distributed word representation`(you can use pretrained w2v vectors or some other model). You are free to use any libraries (for instance gensim) and components."
      ]
    },
    {
      "cell_type": "code",
      "metadata": {
        "id": "AEtv-gWcDMVW"
      },
      "source": [
        ""
      ],
      "execution_count": null,
      "outputs": []
    },
    {
      "cell_type": "code",
      "source": [
        ""
      ],
      "metadata": {
        "id": "lNAxDfzqhbWI"
      },
      "execution_count": null,
      "outputs": []
    },
    {
      "cell_type": "markdown",
      "metadata": {
        "id": "Kp1jTJmPDMVX"
      },
      "source": [
        "### Topic modeling"
      ]
    },
    {
      "cell_type": "markdown",
      "metadata": {
        "id": "lgbVtgphDMVX"
      },
      "source": [
        "Read and preprocess the dataset, divide it into train and test parts `sklearn.model_selection.train_test_split`. Test part will be used in classification part. For simplicity we do not perform cross-validation here, but you should remember about it."
      ]
    },
    {
      "cell_type": "code",
      "metadata": {
        "id": "_Uh0J_C8DMVY"
      },
      "source": [
        ""
      ],
      "execution_count": null,
      "outputs": []
    },
    {
      "cell_type": "markdown",
      "metadata": {
        "id": "rNepVz1wDMVY"
      },
      "source": [
        "Plot the histogram of resulting tokens counts in the processed datasets."
      ]
    },
    {
      "cell_type": "code",
      "metadata": {
        "id": "L_7JVEfbDMVZ"
      },
      "source": [
        ""
      ],
      "execution_count": null,
      "outputs": []
    },
    {
      "cell_type": "markdown",
      "metadata": {
        "id": "ulOjNL9vDMVZ"
      },
      "source": [
        "Plot the histogram of resulting tokens counts in the processed datasets."
      ]
    },
    {
      "cell_type": "code",
      "metadata": {
        "id": "HAse0LBvDMVa"
      },
      "source": [
        ""
      ],
      "execution_count": null,
      "outputs": []
    },
    {
      "cell_type": "markdown",
      "metadata": {
        "id": "4N86AaGNDMVa"
      },
      "source": [
        "#### NMF"
      ]
    },
    {
      "cell_type": "markdown",
      "metadata": {
        "id": "kPelcAFQDMVa"
      },
      "source": [
        "Implement topic modeling with NMF (you can use `sklearn.decomposition.NMF`) and print out resulting topics. Try to change hyperparameters to better fit the dataset."
      ]
    },
    {
      "cell_type": "code",
      "metadata": {
        "id": "DCPzCMMMDMVa"
      },
      "source": [
        ""
      ],
      "execution_count": null,
      "outputs": []
    },
    {
      "cell_type": "markdown",
      "metadata": {
        "id": "zuaKAGIWDMVb"
      },
      "source": [
        "#### LDA"
      ]
    },
    {
      "cell_type": "markdown",
      "metadata": {
        "id": "PAK_MfQxDMVb"
      },
      "source": [
        "Implement topic modeling with LDA (you can use gensim implementation) and print out resulting topics. Try to change hyperparameters to better fit the dataset."
      ]
    },
    {
      "cell_type": "code",
      "metadata": {
        "id": "fdzopuCJDMVb"
      },
      "source": [
        ""
      ],
      "execution_count": null,
      "outputs": []
    },
    {
      "cell_type": "markdown",
      "metadata": {
        "id": "vSF6fq0NDMVc"
      },
      "source": [
        "### Additive regularization of topic models "
      ]
    },
    {
      "cell_type": "markdown",
      "metadata": {
        "id": "tVcA4itQDMVc"
      },
      "source": [
        "Implement topic modeling with ARTM. You may use bigartm library (simple installation for linux: pip install bigartm) or TopicNet framework (`https://github.com/machine-intelligence-laboratory/TopicNet`)"
      ]
    },
    {
      "cell_type": "markdown",
      "metadata": {
        "id": "03xhr0PmDMVc"
      },
      "source": [
        "Create artm topic model fit it to the data. Try to change hyperparameters (number of specific and background topics) to better fit the dataset. Play with smoothing and sparsing coefficients (use grid), try to add decorrelator. Print out resulting topics."
      ]
    },
    {
      "cell_type": "code",
      "metadata": {
        "id": "tgv1qIUZDMVc"
      },
      "source": [
        ""
      ],
      "execution_count": null,
      "outputs": []
    },
    {
      "cell_type": "markdown",
      "metadata": {
        "id": "mteOYV8TDMVd"
      },
      "source": [
        "Write a function to convert new documents to topics probabilities vectors."
      ]
    },
    {
      "cell_type": "code",
      "metadata": {
        "id": "IGkD9YaxDMVd"
      },
      "source": [
        ""
      ],
      "execution_count": null,
      "outputs": []
    },
    {
      "cell_type": "markdown",
      "metadata": {
        "id": "SPrNOdMLDMVd"
      },
      "source": [
        "Calculate the quality scores for each model. Make a barplot to compare the quality."
      ]
    },
    {
      "cell_type": "code",
      "metadata": {
        "id": "hQadAQCXDMVd"
      },
      "source": [
        ""
      ],
      "execution_count": null,
      "outputs": []
    }
  ]
}